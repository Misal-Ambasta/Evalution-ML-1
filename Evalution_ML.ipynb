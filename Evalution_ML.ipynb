{
  "cells": [
    {
      "cell_type": "code",
      "execution_count": 2,
      "metadata": {
        "colab": {
          "base_uri": "https://localhost:8080/"
        },
        "id": "dX64XyqorX0k",
        "outputId": "cb07d4f3-2eb9-4c64-bb49-f2cf42760255"
      },
      "outputs": [],
      "source": [
        "#pip install pandas numpy matplotlib seaborn scikit-learn"
      ]
    },
    {
      "cell_type": "code",
      "execution_count": 3,
      "metadata": {
        "id": "q-I-5YjvrgTH"
      },
      "outputs": [],
      "source": [
        "import pandas as pd\n",
        "from sklearn.model_selection import train_test_split\n",
        "from sklearn.linear_model import LogisticRegression\n",
        "from sklearn.metrics import accuracy_score, confusion_matrix, recall_score, precision_score, f1_score, roc_curve, roc_auc_score, RocCurveDisplay\n",
        "from sklearn.preprocessing import StandardScaler\n",
        "from sklearn.tree import DecisionTreeClassifier, plot_tree\n",
        "import matplotlib.pyplot as plt"
      ]
    },
    {
      "cell_type": "code",
      "execution_count": 4,
      "metadata": {
        "id": "iexLFWyWsX8s"
      },
      "outputs": [],
      "source": [
        "df = pd.read_csv(\"diabetes.csv\")"
      ]
    },
    {
      "cell_type": "code",
      "execution_count": 5,
      "metadata": {
        "colab": {
          "base_uri": "https://localhost:8080/",
          "height": 206
        },
        "id": "R9_bys0csdKF",
        "outputId": "792c5a4a-f0bf-4a15-8031-0c682288dbc6"
      },
      "outputs": [
        {
          "data": {
            "text/html": [
              "<div>\n",
              "<style scoped>\n",
              "    .dataframe tbody tr th:only-of-type {\n",
              "        vertical-align: middle;\n",
              "    }\n",
              "\n",
              "    .dataframe tbody tr th {\n",
              "        vertical-align: top;\n",
              "    }\n",
              "\n",
              "    .dataframe thead th {\n",
              "        text-align: right;\n",
              "    }\n",
              "</style>\n",
              "<table border=\"1\" class=\"dataframe\">\n",
              "  <thead>\n",
              "    <tr style=\"text-align: right;\">\n",
              "      <th></th>\n",
              "      <th>Pregnancies</th>\n",
              "      <th>Glucose</th>\n",
              "      <th>BloodPressure</th>\n",
              "      <th>SkinThickness</th>\n",
              "      <th>Insulin</th>\n",
              "      <th>BMI</th>\n",
              "      <th>DiabetesPedigreeFunction</th>\n",
              "      <th>Age</th>\n",
              "      <th>Outcome</th>\n",
              "    </tr>\n",
              "  </thead>\n",
              "  <tbody>\n",
              "    <tr>\n",
              "      <th>0</th>\n",
              "      <td>6</td>\n",
              "      <td>148</td>\n",
              "      <td>72</td>\n",
              "      <td>35</td>\n",
              "      <td>0</td>\n",
              "      <td>33.6</td>\n",
              "      <td>0.627</td>\n",
              "      <td>50</td>\n",
              "      <td>1</td>\n",
              "    </tr>\n",
              "    <tr>\n",
              "      <th>1</th>\n",
              "      <td>1</td>\n",
              "      <td>85</td>\n",
              "      <td>66</td>\n",
              "      <td>29</td>\n",
              "      <td>0</td>\n",
              "      <td>26.6</td>\n",
              "      <td>0.351</td>\n",
              "      <td>31</td>\n",
              "      <td>0</td>\n",
              "    </tr>\n",
              "    <tr>\n",
              "      <th>2</th>\n",
              "      <td>8</td>\n",
              "      <td>183</td>\n",
              "      <td>64</td>\n",
              "      <td>0</td>\n",
              "      <td>0</td>\n",
              "      <td>23.3</td>\n",
              "      <td>0.672</td>\n",
              "      <td>32</td>\n",
              "      <td>1</td>\n",
              "    </tr>\n",
              "    <tr>\n",
              "      <th>3</th>\n",
              "      <td>1</td>\n",
              "      <td>89</td>\n",
              "      <td>66</td>\n",
              "      <td>23</td>\n",
              "      <td>94</td>\n",
              "      <td>28.1</td>\n",
              "      <td>0.167</td>\n",
              "      <td>21</td>\n",
              "      <td>0</td>\n",
              "    </tr>\n",
              "    <tr>\n",
              "      <th>4</th>\n",
              "      <td>0</td>\n",
              "      <td>137</td>\n",
              "      <td>40</td>\n",
              "      <td>35</td>\n",
              "      <td>168</td>\n",
              "      <td>43.1</td>\n",
              "      <td>2.288</td>\n",
              "      <td>33</td>\n",
              "      <td>1</td>\n",
              "    </tr>\n",
              "  </tbody>\n",
              "</table>\n",
              "</div>"
            ],
            "text/plain": [
              "   Pregnancies  Glucose  BloodPressure  SkinThickness  Insulin   BMI  \\\n",
              "0            6      148             72             35        0  33.6   \n",
              "1            1       85             66             29        0  26.6   \n",
              "2            8      183             64              0        0  23.3   \n",
              "3            1       89             66             23       94  28.1   \n",
              "4            0      137             40             35      168  43.1   \n",
              "\n",
              "   DiabetesPedigreeFunction  Age  Outcome  \n",
              "0                     0.627   50        1  \n",
              "1                     0.351   31        0  \n",
              "2                     0.672   32        1  \n",
              "3                     0.167   21        0  \n",
              "4                     2.288   33        1  "
            ]
          },
          "execution_count": 5,
          "metadata": {},
          "output_type": "execute_result"
        }
      ],
      "source": [
        "df.head(5)"
      ]
    },
    {
      "cell_type": "code",
      "execution_count": 6,
      "metadata": {
        "colab": {
          "base_uri": "https://localhost:8080/",
          "height": 366
        },
        "id": "V3wGzzy9sedH",
        "outputId": "fd8fbb37-1d1c-401a-872c-4f7960f16d35"
      },
      "outputs": [
        {
          "data": {
            "text/plain": [
              "Pregnancies                 0\n",
              "Glucose                     0\n",
              "BloodPressure               0\n",
              "SkinThickness               0\n",
              "Insulin                     0\n",
              "BMI                         0\n",
              "DiabetesPedigreeFunction    0\n",
              "Age                         0\n",
              "Outcome                     0\n",
              "dtype: int64"
            ]
          },
          "execution_count": 6,
          "metadata": {},
          "output_type": "execute_result"
        }
      ],
      "source": [
        "df.isna().sum()"
      ]
    },
    {
      "cell_type": "code",
      "execution_count": 7,
      "metadata": {
        "colab": {
          "base_uri": "https://localhost:8080/",
          "height": 300
        },
        "id": "gAS6kW8dsyX0",
        "outputId": "50825f01-ed24-4cae-ca89-c125ccc690cd"
      },
      "outputs": [
        {
          "data": {
            "text/html": [
              "<div>\n",
              "<style scoped>\n",
              "    .dataframe tbody tr th:only-of-type {\n",
              "        vertical-align: middle;\n",
              "    }\n",
              "\n",
              "    .dataframe tbody tr th {\n",
              "        vertical-align: top;\n",
              "    }\n",
              "\n",
              "    .dataframe thead th {\n",
              "        text-align: right;\n",
              "    }\n",
              "</style>\n",
              "<table border=\"1\" class=\"dataframe\">\n",
              "  <thead>\n",
              "    <tr style=\"text-align: right;\">\n",
              "      <th></th>\n",
              "      <th>Pregnancies</th>\n",
              "      <th>Glucose</th>\n",
              "      <th>BloodPressure</th>\n",
              "      <th>SkinThickness</th>\n",
              "      <th>Insulin</th>\n",
              "      <th>BMI</th>\n",
              "      <th>DiabetesPedigreeFunction</th>\n",
              "      <th>Age</th>\n",
              "      <th>Outcome</th>\n",
              "    </tr>\n",
              "  </thead>\n",
              "  <tbody>\n",
              "    <tr>\n",
              "      <th>count</th>\n",
              "      <td>768.000000</td>\n",
              "      <td>768.000000</td>\n",
              "      <td>768.000000</td>\n",
              "      <td>768.000000</td>\n",
              "      <td>768.000000</td>\n",
              "      <td>768.000000</td>\n",
              "      <td>768.000000</td>\n",
              "      <td>768.000000</td>\n",
              "      <td>768.000000</td>\n",
              "    </tr>\n",
              "    <tr>\n",
              "      <th>mean</th>\n",
              "      <td>3.845052</td>\n",
              "      <td>120.894531</td>\n",
              "      <td>69.105469</td>\n",
              "      <td>20.536458</td>\n",
              "      <td>79.799479</td>\n",
              "      <td>31.992578</td>\n",
              "      <td>0.471876</td>\n",
              "      <td>33.240885</td>\n",
              "      <td>0.348958</td>\n",
              "    </tr>\n",
              "    <tr>\n",
              "      <th>std</th>\n",
              "      <td>3.369578</td>\n",
              "      <td>31.972618</td>\n",
              "      <td>19.355807</td>\n",
              "      <td>15.952218</td>\n",
              "      <td>115.244002</td>\n",
              "      <td>7.884160</td>\n",
              "      <td>0.331329</td>\n",
              "      <td>11.760232</td>\n",
              "      <td>0.476951</td>\n",
              "    </tr>\n",
              "    <tr>\n",
              "      <th>min</th>\n",
              "      <td>0.000000</td>\n",
              "      <td>0.000000</td>\n",
              "      <td>0.000000</td>\n",
              "      <td>0.000000</td>\n",
              "      <td>0.000000</td>\n",
              "      <td>0.000000</td>\n",
              "      <td>0.078000</td>\n",
              "      <td>21.000000</td>\n",
              "      <td>0.000000</td>\n",
              "    </tr>\n",
              "    <tr>\n",
              "      <th>25%</th>\n",
              "      <td>1.000000</td>\n",
              "      <td>99.000000</td>\n",
              "      <td>62.000000</td>\n",
              "      <td>0.000000</td>\n",
              "      <td>0.000000</td>\n",
              "      <td>27.300000</td>\n",
              "      <td>0.243750</td>\n",
              "      <td>24.000000</td>\n",
              "      <td>0.000000</td>\n",
              "    </tr>\n",
              "    <tr>\n",
              "      <th>50%</th>\n",
              "      <td>3.000000</td>\n",
              "      <td>117.000000</td>\n",
              "      <td>72.000000</td>\n",
              "      <td>23.000000</td>\n",
              "      <td>30.500000</td>\n",
              "      <td>32.000000</td>\n",
              "      <td>0.372500</td>\n",
              "      <td>29.000000</td>\n",
              "      <td>0.000000</td>\n",
              "    </tr>\n",
              "    <tr>\n",
              "      <th>75%</th>\n",
              "      <td>6.000000</td>\n",
              "      <td>140.250000</td>\n",
              "      <td>80.000000</td>\n",
              "      <td>32.000000</td>\n",
              "      <td>127.250000</td>\n",
              "      <td>36.600000</td>\n",
              "      <td>0.626250</td>\n",
              "      <td>41.000000</td>\n",
              "      <td>1.000000</td>\n",
              "    </tr>\n",
              "    <tr>\n",
              "      <th>max</th>\n",
              "      <td>17.000000</td>\n",
              "      <td>199.000000</td>\n",
              "      <td>122.000000</td>\n",
              "      <td>99.000000</td>\n",
              "      <td>846.000000</td>\n",
              "      <td>67.100000</td>\n",
              "      <td>2.420000</td>\n",
              "      <td>81.000000</td>\n",
              "      <td>1.000000</td>\n",
              "    </tr>\n",
              "  </tbody>\n",
              "</table>\n",
              "</div>"
            ],
            "text/plain": [
              "       Pregnancies     Glucose  BloodPressure  SkinThickness     Insulin  \\\n",
              "count   768.000000  768.000000     768.000000     768.000000  768.000000   \n",
              "mean      3.845052  120.894531      69.105469      20.536458   79.799479   \n",
              "std       3.369578   31.972618      19.355807      15.952218  115.244002   \n",
              "min       0.000000    0.000000       0.000000       0.000000    0.000000   \n",
              "25%       1.000000   99.000000      62.000000       0.000000    0.000000   \n",
              "50%       3.000000  117.000000      72.000000      23.000000   30.500000   \n",
              "75%       6.000000  140.250000      80.000000      32.000000  127.250000   \n",
              "max      17.000000  199.000000     122.000000      99.000000  846.000000   \n",
              "\n",
              "              BMI  DiabetesPedigreeFunction         Age     Outcome  \n",
              "count  768.000000                768.000000  768.000000  768.000000  \n",
              "mean    31.992578                  0.471876   33.240885    0.348958  \n",
              "std      7.884160                  0.331329   11.760232    0.476951  \n",
              "min      0.000000                  0.078000   21.000000    0.000000  \n",
              "25%     27.300000                  0.243750   24.000000    0.000000  \n",
              "50%     32.000000                  0.372500   29.000000    0.000000  \n",
              "75%     36.600000                  0.626250   41.000000    1.000000  \n",
              "max     67.100000                  2.420000   81.000000    1.000000  "
            ]
          },
          "execution_count": 7,
          "metadata": {},
          "output_type": "execute_result"
        }
      ],
      "source": [
        "df.describe()"
      ]
    },
    {
      "cell_type": "code",
      "execution_count": 8,
      "metadata": {
        "colab": {
          "base_uri": "https://localhost:8080/"
        },
        "id": "ufbs6kU8s5RQ",
        "outputId": "df8e847e-e639-40e0-ad85-bfe6ed86a263"
      },
      "outputs": [
        {
          "data": {
            "text/plain": [
              "np.int64(0)"
            ]
          },
          "execution_count": 8,
          "metadata": {},
          "output_type": "execute_result"
        }
      ],
      "source": [
        "df.duplicated().sum()"
      ]
    },
    {
      "cell_type": "code",
      "execution_count": 9,
      "metadata": {
        "id": "XxPN6W3ttC6z"
      },
      "outputs": [],
      "source": [
        "X = df.drop('Outcome', axis=1)\n",
        "y = df['Outcome']"
      ]
    },
    {
      "cell_type": "markdown",
      "metadata": {
        "id": "NzjUKXVj3LUU"
      },
      "source": [
        "## Logistic Regression"
      ]
    },
    {
      "cell_type": "code",
      "execution_count": 10,
      "metadata": {
        "id": "RzhonmeYtWuf"
      },
      "outputs": [],
      "source": [
        "X_train, X_test, y_train, y_test = train_test_split(X, y, test_size=0.3, random_state=42)"
      ]
    },
    {
      "cell_type": "code",
      "execution_count": 11,
      "metadata": {
        "id": "XJEVf5LQtSTL"
      },
      "outputs": [],
      "source": [
        "scaler = StandardScaler()\n",
        "X_train_scaler = scaler.fit_transform(X_train)\n",
        "X_test_scaler = scaler.transform(X_test)"
      ]
    },
    {
      "cell_type": "code",
      "execution_count": 12,
      "metadata": {
        "id": "T907u9SttrET"
      },
      "outputs": [],
      "source": [
        "log_reg = LogisticRegression()\n",
        "log_reg.fit(X_train_scaler, y_train)\n",
        "y_pred = log_reg.predict(X_test_scaler)"
      ]
    },
    {
      "cell_type": "markdown",
      "metadata": {
        "id": "1XxZu_qM3RAE"
      },
      "source": [
        "#### F1 score"
      ]
    },
    {
      "cell_type": "code",
      "execution_count": 13,
      "metadata": {
        "colab": {
          "base_uri": "https://localhost:8080/"
        },
        "id": "HmtolKH7t3H4",
        "outputId": "ac8afb42-9a40-40a2-ba93-5f7db7f49db1"
      },
      "outputs": [
        {
          "data": {
            "text/plain": [
              "0.6211180124223602"
            ]
          },
          "execution_count": 13,
          "metadata": {},
          "output_type": "execute_result"
        }
      ],
      "source": [
        "f1_score(y_test, y_pred)"
      ]
    },
    {
      "cell_type": "markdown",
      "metadata": {
        "id": "Yr-SIKjY3URa"
      },
      "source": [
        "#### Accuracy"
      ]
    },
    {
      "cell_type": "code",
      "execution_count": 14,
      "metadata": {
        "colab": {
          "base_uri": "https://localhost:8080/"
        },
        "id": "yxEY2k4qui0z",
        "outputId": "e89ef564-703d-450a-8880-a2878ad22e1d"
      },
      "outputs": [
        {
          "name": "stdout",
          "output_type": "stream",
          "text": [
            "0.7359307359307359\n"
          ]
        }
      ],
      "source": [
        "print(accuracy_score(y_test, y_pred))"
      ]
    },
    {
      "cell_type": "markdown",
      "metadata": {
        "id": "oPUHIc-w3ZsK"
      },
      "source": [
        "#### Confusion matrix"
      ]
    },
    {
      "cell_type": "code",
      "execution_count": 15,
      "metadata": {
        "colab": {
          "base_uri": "https://localhost:8080/"
        },
        "id": "MhHt_OBhuE5s",
        "outputId": "2ba0f6d3-a08d-4bd9-dbca-468d29789d82"
      },
      "outputs": [
        {
          "name": "stdout",
          "output_type": "stream",
          "text": [
            "[[120  31]\n",
            " [ 30  50]]\n"
          ]
        }
      ],
      "source": [
        "\n",
        "print(confusion_matrix(y_test, y_pred))"
      ]
    },
    {
      "cell_type": "markdown",
      "metadata": {
        "id": "74HpSTka3c_4"
      },
      "source": [
        "#### Precision score"
      ]
    },
    {
      "cell_type": "code",
      "execution_count": 16,
      "metadata": {
        "colab": {
          "base_uri": "https://localhost:8080/"
        },
        "id": "3-j26BVJuPzj",
        "outputId": "5793eb4c-b531-4672-f5c0-b459325e4b1f"
      },
      "outputs": [
        {
          "data": {
            "text/plain": [
              "0.6172839506172839"
            ]
          },
          "execution_count": 16,
          "metadata": {},
          "output_type": "execute_result"
        }
      ],
      "source": [
        "precision_score(y_test, y_pred)"
      ]
    },
    {
      "cell_type": "markdown",
      "metadata": {
        "id": "En819Acv3gLq"
      },
      "source": [
        "#### Recall score"
      ]
    },
    {
      "cell_type": "code",
      "execution_count": 17,
      "metadata": {
        "colab": {
          "base_uri": "https://localhost:8080/"
        },
        "id": "3Q4QjmIzuUxz",
        "outputId": "cb4a0a13-c7bf-4bcd-f842-be2a23cd3777"
      },
      "outputs": [
        {
          "data": {
            "text/plain": [
              "0.625"
            ]
          },
          "execution_count": 17,
          "metadata": {},
          "output_type": "execute_result"
        }
      ],
      "source": [
        "recall_score(y_test, y_pred)"
      ]
    },
    {
      "cell_type": "markdown",
      "metadata": {
        "id": "bn4Lk5nh3jM5"
      },
      "source": [
        "#### roc curve"
      ]
    },
    {
      "cell_type": "code",
      "execution_count": 18,
      "metadata": {
        "colab": {
          "base_uri": "https://localhost:8080/"
        },
        "id": "MalRsLHkuWh8",
        "outputId": "faf1b42b-2217-4a8c-d88f-a449396a0e4e"
      },
      "outputs": [
        {
          "data": {
            "text/plain": [
              "(array([0.        , 0.20529801, 1.        ]),\n",
              " array([0.   , 0.625, 1.   ]),\n",
              " array([inf,  1.,  0.]))"
            ]
          },
          "execution_count": 18,
          "metadata": {},
          "output_type": "execute_result"
        }
      ],
      "source": [
        "roc_curve(y_test, y_pred)"
      ]
    },
    {
      "cell_type": "markdown",
      "metadata": {
        "id": "4AcVoqIj3nid"
      },
      "source": [
        "#### AUC Score\n"
      ]
    },
    {
      "cell_type": "code",
      "execution_count": 19,
      "metadata": {
        "colab": {
          "base_uri": "https://localhost:8080/"
        },
        "id": "-7Nc7tl0uZQJ",
        "outputId": "dc58568b-b2a5-4d00-f57c-7d7f2d600f26"
      },
      "outputs": [
        {
          "data": {
            "text/plain": [
              "0.7098509933774835"
            ]
          },
          "execution_count": 19,
          "metadata": {},
          "output_type": "execute_result"
        }
      ],
      "source": [
        "roc_auc_score(y_test, y_pred)"
      ]
    },
    {
      "cell_type": "markdown",
      "metadata": {
        "id": "tXy70mzfvp-0"
      },
      "source": [
        "## Decision Tree"
      ]
    },
    {
      "cell_type": "code",
      "execution_count": 20,
      "metadata": {
        "id": "_zM__6TUvtv4"
      },
      "outputs": [],
      "source": [
        "clf = DecisionTreeClassifier(max_depth=4, random_state=42, criterion=\"entropy\")\n",
        "clf.fit(X_train_scaler, y_train)\n",
        "y_clf_pred = clf.predict(X_test_scaler)"
      ]
    },
    {
      "cell_type": "markdown",
      "metadata": {
        "id": "058CW71Y3uuY"
      },
      "source": [
        "#### F1 score"
      ]
    },
    {
      "cell_type": "code",
      "execution_count": 21,
      "metadata": {
        "colab": {
          "base_uri": "https://localhost:8080/"
        },
        "id": "2mWbSoQCwHe_",
        "outputId": "157e4480-687b-416b-ff52-c16ab9959bf5"
      },
      "outputs": [
        {
          "data": {
            "text/plain": [
              "0.6557377049180327"
            ]
          },
          "execution_count": 21,
          "metadata": {},
          "output_type": "execute_result"
        }
      ],
      "source": [
        "f1_score(y_test, y_clf_pred)"
      ]
    },
    {
      "cell_type": "markdown",
      "metadata": {
        "id": "J-aea97k3xAe"
      },
      "source": [
        "#### Accuracy"
      ]
    },
    {
      "cell_type": "code",
      "execution_count": 22,
      "metadata": {
        "colab": {
          "base_uri": "https://localhost:8080/"
        },
        "id": "OPzmCl5BwQEp",
        "outputId": "83075520-b57b-4ad8-d07a-d5f5d106f0a2"
      },
      "outputs": [
        {
          "data": {
            "text/plain": [
              "0.7272727272727273"
            ]
          },
          "execution_count": 22,
          "metadata": {},
          "output_type": "execute_result"
        }
      ],
      "source": [
        "accuracy_score(y_test, y_clf_pred)"
      ]
    },
    {
      "cell_type": "markdown",
      "metadata": {
        "id": "sodrSvQY3zMc"
      },
      "source": [
        "#### Confusion matrix"
      ]
    },
    {
      "cell_type": "code",
      "execution_count": 23,
      "metadata": {
        "colab": {
          "base_uri": "https://localhost:8080/"
        },
        "id": "9qkfqg4NwYu6",
        "outputId": "86cd0bcc-67d3-4863-b1a1-a8f7929efdc5"
      },
      "outputs": [
        {
          "data": {
            "text/plain": [
              "array([[108,  43],\n",
              "       [ 20,  60]])"
            ]
          },
          "execution_count": 23,
          "metadata": {},
          "output_type": "execute_result"
        }
      ],
      "source": [
        "confusion_matrix(y_test, y_clf_pred)"
      ]
    },
    {
      "cell_type": "markdown",
      "metadata": {
        "id": "WwmrQ_f73142"
      },
      "source": [
        "#### Precision score"
      ]
    },
    {
      "cell_type": "code",
      "execution_count": 24,
      "metadata": {
        "colab": {
          "base_uri": "https://localhost:8080/"
        },
        "id": "B47D9iENxEdx",
        "outputId": "e18dae20-1e7f-4491-bcdd-a9e1ddd2aece"
      },
      "outputs": [
        {
          "data": {
            "text/plain": [
              "0.5825242718446602"
            ]
          },
          "execution_count": 24,
          "metadata": {},
          "output_type": "execute_result"
        }
      ],
      "source": [
        "precision_score(y_test, y_clf_pred)"
      ]
    },
    {
      "cell_type": "markdown",
      "metadata": {
        "id": "uepJXFnj34e3"
      },
      "source": [
        "#### Recall score"
      ]
    },
    {
      "cell_type": "code",
      "execution_count": 25,
      "metadata": {
        "colab": {
          "base_uri": "https://localhost:8080/"
        },
        "id": "I9WAJQJ8xHd5",
        "outputId": "8d42f1f0-eb5c-4b4a-8cba-3ce03e62e873"
      },
      "outputs": [
        {
          "data": {
            "text/plain": [
              "0.75"
            ]
          },
          "execution_count": 25,
          "metadata": {},
          "output_type": "execute_result"
        }
      ],
      "source": [
        "recall_score(y_test, y_clf_pred)"
      ]
    },
    {
      "cell_type": "markdown",
      "metadata": {
        "id": "Bu6fPrBu35a_"
      },
      "source": [
        "#### ROC curve"
      ]
    },
    {
      "cell_type": "code",
      "execution_count": 26,
      "metadata": {
        "colab": {
          "base_uri": "https://localhost:8080/"
        },
        "id": "RWPjTnsMxLTH",
        "outputId": "22889069-546c-4a54-9041-f692ea7a428f"
      },
      "outputs": [
        {
          "data": {
            "text/plain": [
              "(array([0.        , 0.28476821, 1.        ]),\n",
              " array([0.  , 0.75, 1.  ]),\n",
              " array([inf,  1.,  0.]))"
            ]
          },
          "execution_count": 26,
          "metadata": {},
          "output_type": "execute_result"
        }
      ],
      "source": [
        "roc_curve(y_test, y_clf_pred)"
      ]
    },
    {
      "cell_type": "markdown",
      "metadata": {
        "id": "tZUe6XuZ38ho"
      },
      "source": [
        "#### AUC score"
      ]
    },
    {
      "cell_type": "code",
      "execution_count": 27,
      "metadata": {
        "colab": {
          "base_uri": "https://localhost:8080/"
        },
        "id": "AJkjWgGbxO8_",
        "outputId": "5c2ebbad-ac0d-4821-95db-da283ad2d077"
      },
      "outputs": [
        {
          "data": {
            "text/plain": [
              "0.732615894039735"
            ]
          },
          "execution_count": 27,
          "metadata": {},
          "output_type": "execute_result"
        }
      ],
      "source": [
        "roc_auc_score(y_test, y_clf_pred)"
      ]
    },
    {
      "cell_type": "markdown",
      "metadata": {
        "id": "-iWyrjDM3-cV"
      },
      "source": [
        "### Plot Tree"
      ]
    },
    {
      "cell_type": "code",
      "execution_count": 28,
      "metadata": {
        "colab": {
          "base_uri": "https://localhost:8080/",
          "height": 909
        },
        "id": "_LUxjJBXxSoa",
        "outputId": "7779a50e-7692-4f18-ee2f-82777e0fabec"
      },
      "outputs": [
        {
          "data": {
            "text/plain": [
              "[Text(0.56, 0.9, 'x[1] <= 1.042\\nentropy = 0.934\\nsamples = 537\\nvalue = [349, 188]'),\n",
              " Text(0.32, 0.7, 'x[5] <= -0.739\\nentropy = 0.823\\nsamples = 454\\nvalue = [337, 117]'),\n",
              " Text(0.44000000000000006, 0.8, 'True  '),\n",
              " Text(0.16, 0.5, 'x[1] <= 0.113\\nentropy = 0.219\\nsamples = 114\\nvalue = [110, 4]'),\n",
              " Text(0.08, 0.3, 'x[6] <= 0.602\\nentropy = 0.085\\nsamples = 94\\nvalue = [93, 1]'),\n",
              " Text(0.04, 0.1, 'entropy = 0.0\\nsamples = 79\\nvalue = [79, 0]'),\n",
              " Text(0.12, 0.1, 'entropy = 0.353\\nsamples = 15\\nvalue = [14, 1]'),\n",
              " Text(0.24, 0.3, 'x[2] <= -0.674\\nentropy = 0.61\\nsamples = 20\\nvalue = [17, 3]'),\n",
              " Text(0.2, 0.1, 'entropy = 0.0\\nsamples = 1\\nvalue = [0, 1]'),\n",
              " Text(0.28, 0.1, 'entropy = 0.485\\nsamples = 19\\nvalue = [17, 2]'),\n",
              " Text(0.48, 0.5, 'x[7] <= -0.392\\nentropy = 0.917\\nsamples = 340\\nvalue = [227, 113]'),\n",
              " Text(0.4, 0.3, 'x[1] <= 0.206\\nentropy = 0.662\\nsamples = 163\\nvalue = [135, 28]'),\n",
              " Text(0.36, 0.1, 'entropy = 0.43\\nsamples = 125\\nvalue = [114, 11]'),\n",
              " Text(0.44, 0.1, 'entropy = 0.992\\nsamples = 38\\nvalue = [21.0, 17.0]'),\n",
              " Text(0.56, 0.3, 'x[1] <= -0.661\\nentropy = 0.999\\nsamples = 177\\nvalue = [92, 85]'),\n",
              " Text(0.52, 0.1, 'entropy = 0.711\\nsamples = 36\\nvalue = [29, 7]'),\n",
              " Text(0.6, 0.1, 'entropy = 0.992\\nsamples = 141\\nvalue = [63, 78]'),\n",
              " Text(0.8, 0.7, 'x[5] <= -0.43\\nentropy = 0.596\\nsamples = 83\\nvalue = [12, 71]'),\n",
              " Text(0.68, 0.8, '  False'),\n",
              " Text(0.68, 0.5, 'x[5] <= -0.87\\nentropy = 0.98\\nsamples = 12\\nvalue = [5, 7]'),\n",
              " Text(0.64, 0.3, 'entropy = 0.0\\nsamples = 4\\nvalue = [0, 4]'),\n",
              " Text(0.72, 0.3, 'x[7] <= 1.664\\nentropy = 0.954\\nsamples = 8\\nvalue = [5, 3]'),\n",
              " Text(0.68, 0.1, 'entropy = 0.971\\nsamples = 5\\nvalue = [2, 3]'),\n",
              " Text(0.76, 0.1, 'entropy = 0.0\\nsamples = 3\\nvalue = [3, 0]'),\n",
              " Text(0.92, 0.5, 'x[0] <= 0.851\\nentropy = 0.465\\nsamples = 71\\nvalue = [7.0, 64.0]'),\n",
              " Text(0.88, 0.3, 'x[1] <= 1.382\\nentropy = 0.607\\nsamples = 47\\nvalue = [7, 40]'),\n",
              " Text(0.84, 0.1, 'entropy = 0.89\\nsamples = 13\\nvalue = [4, 9]'),\n",
              " Text(0.92, 0.1, 'entropy = 0.431\\nsamples = 34\\nvalue = [3, 31]'),\n",
              " Text(0.96, 0.3, 'entropy = 0.0\\nsamples = 24\\nvalue = [0, 24]')]"
            ]
          },
          "execution_count": 28,
          "metadata": {},
          "output_type": "execute_result"
        },
        {
          "data": {
            "image/png": "[encoded data removed]",
            "text/plain": [
              "<Figure size 640x480 with 1 Axes>"
            ]
          },
          "metadata": {},
          "output_type": "display_data"
        }
      ],
      "source": [
        "plot_tree(clf, rounded=True, fontsize=8, max_depth=4)"
      ]
    },
    {
      "cell_type": "markdown",
      "metadata": {
        "id": "dve468KXzsmr"
      },
      "source": [
        "#ROC Curve"
      ]
    },
    {
      "cell_type": "markdown",
      "metadata": {
        "id": "shvFMSMPzw_b"
      },
      "source": [
        "#### Decision Tree"
      ]
    },
    {
      "cell_type": "code",
      "execution_count": 29,
      "metadata": {
        "colab": {
          "base_uri": "https://localhost:8080/",
          "height": 451
        },
        "id": "qokmMeWaxhk_",
        "outputId": "6721ad80-c134-4efa-a015-33fac02a9387"
      },
      "outputs": [
        {
          "data": {
            "image/png": "[encoded data removed]",
            "text/plain": [
              "<Figure size 640x480 with 1 Axes>"
            ]
          },
          "metadata": {},
          "output_type": "display_data"
        }
      ],
      "source": [
        "clf_disp = RocCurveDisplay.from_estimator(clf, X_test_scaler, y_test)\n",
        "plt.show()"
      ]
    },
    {
      "cell_type": "markdown",
      "metadata": {
        "id": "UxNf-RXozz6X"
      },
      "source": [
        "#### Logistic Regression"
      ]
    },
    {
      "cell_type": "code",
      "execution_count": 30,
      "metadata": {
        "colab": {
          "base_uri": "https://localhost:8080/",
          "height": 451
        },
        "id": "IfqBX2X0zkFJ",
        "outputId": "9e150144-cc98-43cc-aacb-b80788dc99b5"
      },
      "outputs": [
        {
          "data": {
            "image/png": "[encoded data removed]",
            "text/plain": [
              "<Figure size 640x480 with 1 Axes>"
            ]
          },
          "metadata": {},
          "output_type": "display_data"
        }
      ],
      "source": [
        "clf_disp = RocCurveDisplay.from_estimator(log_reg, X_test_scaler, y_test)\n",
        "plt.show()"
      ]
    },
    {
      "cell_type": "markdown",
      "metadata": {
        "id": "C9IBo59w4Clf"
      },
      "source": [
        "### Table Comparison"
      ]
    },
    {
      "cell_type": "code",
      "execution_count": 31,
      "metadata": {
        "id": "sWzhVoZpzq19"
      },
      "outputs": [],
      "source": [
        "table = pd.DataFrame()\n",
        "table[\"Model\"] = [\"Logistic Regression\", \"Decision Tree\"]\n",
        "table[\"Accuracy\"] = [accuracy_score(y_test, y_pred), accuracy_score(y_test, y_clf_pred)]\n",
        "table[\"Precision\"] = [precision_score(y_test, y_pred), precision_score(y_test, y_clf_pred)]\n",
        "table[\"Recall\"] = [recall_score(y_test, y_pred), recall_score(y_test, y_clf_pred)]\n",
        "table[\"F1 Score\"] = [f1_score(y_test, y_pred), f1_score(y_test, y_clf_pred)]"
      ]
    },
    {
      "cell_type": "code",
      "execution_count": 32,
      "metadata": {
        "colab": {
          "base_uri": "https://localhost:8080/",
          "height": 125
        },
        "id": "OQqAZRUZ1G9B",
        "outputId": "6b2d4817-3f9c-4980-bf70-184467cfaf40"
      },
      "outputs": [
        {
          "data": {
            "text/html": [
              "<div>\n",
              "<style scoped>\n",
              "    .dataframe tbody tr th:only-of-type {\n",
              "        vertical-align: middle;\n",
              "    }\n",
              "\n",
              "    .dataframe tbody tr th {\n",
              "        vertical-align: top;\n",
              "    }\n",
              "\n",
              "    .dataframe thead th {\n",
              "        text-align: right;\n",
              "    }\n",
              "</style>\n",
              "<table border=\"1\" class=\"dataframe\">\n",
              "  <thead>\n",
              "    <tr style=\"text-align: right;\">\n",
              "      <th></th>\n",
              "      <th>Model</th>\n",
              "      <th>Accuracy</th>\n",
              "      <th>Precision</th>\n",
              "      <th>Recall</th>\n",
              "      <th>F1 Score</th>\n",
              "    </tr>\n",
              "  </thead>\n",
              "  <tbody>\n",
              "    <tr>\n",
              "      <th>0</th>\n",
              "      <td>Logistic Regression</td>\n",
              "      <td>0.735931</td>\n",
              "      <td>0.617284</td>\n",
              "      <td>0.625</td>\n",
              "      <td>0.621118</td>\n",
              "    </tr>\n",
              "    <tr>\n",
              "      <th>1</th>\n",
              "      <td>Decision Tree</td>\n",
              "      <td>0.727273</td>\n",
              "      <td>0.582524</td>\n",
              "      <td>0.750</td>\n",
              "      <td>0.655738</td>\n",
              "    </tr>\n",
              "  </tbody>\n",
              "</table>\n",
              "</div>"
            ],
            "text/plain": [
              "                 Model  Accuracy  Precision  Recall  F1 Score\n",
              "0  Logistic Regression  0.735931   0.617284   0.625  0.621118\n",
              "1        Decision Tree  0.727273   0.582524   0.750  0.655738"
            ]
          },
          "execution_count": 32,
          "metadata": {},
          "output_type": "execute_result"
        }
      ],
      "source": [
        "table"
      ]
    },
    {
      "cell_type": "markdown",
      "metadata": {
        "id": "ze49HjDZ2EKd"
      },
      "source": [
        "As we can the table for logistic regression and Decision tree. In the table, decision tree has better F1 score compare to the logistic regression. It also has better recall. So we are going select decision tree as its related to medical field where senstivity is more important."
      ]
    },
    {
      "cell_type": "code",
      "execution_count": null,
      "metadata": {
        "id": "FGSVlD1H1Nj7"
      },
      "outputs": [],
      "source": []
    }
  ],
  "metadata": {
    "colab": {
      "provenance": []
    },
    "kernelspec": {
      "display_name": ".venv",
      "language": "python",
      "name": "python3"
    },
    "language_info": {
      "codemirror_mode": {
        "name": "ipython",
        "version": 3
      },
      "file_extension": ".py",
      "mimetype": "text/x-python",
      "name": "python",
      "nbconvert_exporter": "python",
      "pygments_lexer": "ipython3",
      "version": "3.12.6"
    }
  },
  "nbformat": 4,
  "nbformat_minor": 0
}
